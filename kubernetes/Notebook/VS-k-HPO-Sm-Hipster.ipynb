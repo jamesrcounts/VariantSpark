{
 "cells": [
  {
   "cell_type": "markdown",
   "metadata": {},
   "source": [
    "# VS-k Small Hipster HPO\n",
    "This is our HPO notebook.  Testing takes < 10 minutes to run w/ 4 qty of r4.rxlarge EC2 instance & Kubernetes\n",
    "\n",
    "### Parameters\n",
    " - input bucket location - Lynn's S3 bucket (us-west-2 / Oregon)\n",
    " - input files `hipster...` and fc `label`\n",
    " - number of Spark executors 50 w/ 2 GM RAM each\n",
    " - number of RF trees is being tested (line 22 in Grid section), w/ batch of 28\n",
    " - default `mtry`\n",
    " - FIX - return calculation of OOB as `-ro` paramater is configured and runs (look in driver logs)\n",
    "\n",
    "To use this, do the following:\n",
    "- In the **Grid Search** section line 23 - change the value of # of trees to be created\n",
    "- Need to fix `spark-submit...` command to be able to run OOB (fix `-ro` parameter on line 53)  \n",
    "\n",
    "Output should look like this:\n",
    " - process finished at 86.14959335327148 seconds using 10 trees\n",
    " - process finished at 927.3492593765259 seconds using 100 trees\n",
    " - process finished at 117.82438707351685 seconds using 200 trees\n",
    " - process finished at 157.99670958518982 seconds using 500 trees\n",
    " - process finished at 230.5197627544403 seconds using 1000 trees\n",
    " - The ntree value that took the least amount of time was 10 at 86.14959335327148 seconds\n"
   ]
  },
  {
   "cell_type": "markdown",
   "metadata": {},
   "source": [
    "# Imports"
   ]
  },
  {
   "cell_type": "code",
   "execution_count": 1,
   "metadata": {
    "ExecuteTime": {
     "end_time": "2018-08-02T20:19:46.345875Z",
     "start_time": "2018-08-02T20:19:46.339887Z"
    }
   },
   "outputs": [],
   "source": [
    "import shlex\n",
    "from subprocess import Popen, PIPE\n",
    "import time "
   ]
  },
  {
   "cell_type": "markdown",
   "metadata": {},
   "source": [
    "# Deal with prechecks"
   ]
  },
  {
   "cell_type": "code",
   "execution_count": 2,
   "metadata": {
    "ExecuteTime": {
     "end_time": "2018-08-02T20:52:36.231617Z",
     "start_time": "2018-08-02T20:52:36.217465Z"
    }
   },
   "outputs": [],
   "source": [
    "%%bash\n",
    "\n",
    "set -e\n",
    "\n",
    "MASTER=https://kubernetes.default.svc:443\n",
    "INPUT_BUCKET=variant-spark\n",
    "\n",
    "function fatal_error () {\n",
    "\techo \"ERROR: $1\" 1>&2\n",
    "\texit 1\n",
    "}\n",
    "\n",
    "if [ -z ${MASTER+x} ];\n",
    "    then\n",
    "        echo \"You must set the MASTER environment variable to a kubernetes API endpoint\";\n",
    "        echo \"Example: https://ABC.sk1.us-west-2.eks.amazonaws.com:443\"\n",
    "        exit 1\n",
    "fi\n",
    "\n",
    "if [ -z ${INPUT_BUCKET+x} ];\n",
    "    then\n",
    "        echo \"You must set the INPUT_BUCKET environment variable to a bucket containing input data\";\n",
    "        echo \"Example: variant-spark-k-storage\"\n",
    "        exit 1\n",
    "fi\n",
    "\n",
    "[[ $(type -P \"spark-submit\") ]] || fatal_error  \"\\`spark-submit\\` cannot be found. Please make sure it's on your PATH.\"\n"
   ]
  },
  {
   "cell_type": "markdown",
   "metadata": {},
   "source": [
    "# Run Grid search"
   ]
  },
  {
   "cell_type": "code",
   "execution_count": 25,
   "metadata": {
    "ExecuteTime": {
     "end_time": "2018-08-02T20:51:44.939018Z",
     "start_time": "2018-08-02T20:51:44.749426Z"
    }
   },
   "outputs": [
    {
     "name": "stdout",
     "output_type": "stream",
     "text": [
      "process finished at 90.4185721874237 seconds using 10 trees\n",
      "process finished at 116.50048351287842 seconds using 100 trees\n",
      "process finished at 133.7640700340271 seconds using 200 trees\n",
      "process finished at 210.01211428642273 seconds using 500 trees\n",
      "process finished at 1139.2977166175842 seconds using 1000 trees\n",
      "The ntree value that took the least amount of time was 10 at 90.4185721874237 seconds\n"
     ]
    }
   ],
   "source": [
    "'''\n",
    "We have a grid of values (trees or batches)\n",
    "We iterate through the grid of values and find which takes the least amount of time\n",
    "We have that configuration as a variable \n",
    "Once iterated we output that value\n",
    "\n",
    "'''\n",
    "\n",
    "# Process file system params\n",
    "MASTER=\"https://kubernetes.default.svc:443\"\n",
    "INPUT_BUCKET=\"variant-spark\"\n",
    "input_file = \"s3a://{}/datasets/hipsterIndex/hipster.vcf\".format(INPUT_BUCKET)\n",
    "input_features = \"s3a://{}/datasets/hipsterIndex/hipster_labels.txt\".format(INPUT_BUCKET)\n",
    "feature_column = \"label\"\n",
    "\n",
    "# Process run params\n",
    "n_iterations = 10\n",
    "upper_bound = 10000\n",
    "lower_bound = 100\n",
    "\n",
    "# builds a list of evenly spaces values for the tree_val variable\n",
    "n_trees = [10,100,200,500,1000]\n",
    "\n",
    "least_time_val = 100\n",
    "param_dict = {}\n",
    "\n",
    "for tree_val in n_trees:\n",
    "    \n",
    "    time_start = time.time()\n",
    "    \n",
    "    MASTER=\"https://kubernetes.default.svc:443\"\n",
    "    INPUT_BUCKET=\"variant-spark\"\n",
    "    \n",
    "    input_string = \"spark-submit \\\n",
    "        --class au.csiro.variantspark.cli.VariantSparkApp \\\n",
    "        --driver-class-path ./conf \\\n",
    "        --master k8s://{0} \\\n",
    "        --deploy-mode cluster \\\n",
    "        --name VS-Hipster-HPO \\\n",
    "        --conf spark.kubernetes.authenticate.driver.serviceAccountName=spark \\\n",
    "        --conf spark.executor.instances=50 \\\n",
    "        --conf spark.executor.memory=2g \\\n",
    "        --conf spark.kubernetes.container.image=jamesrcounts/variantspark:002 \\\n",
    "        --jars http://central.maven.org/maven2/org/apache/hadoop/hadoop-aws/2.7.3/hadoop-aws-2.7.3.jar,http://central.maven.org/maven2/com/amazonaws/aws-java-sdk/1.7.4/aws-java-sdk-1.7.4.jar,http://central.maven.org/maven2/joda-time/joda-time/2.9.9/joda-time-2.9.9.jar \\\n",
    "        local:///opt/spark/jars/variant-spark_2.11-0.2.0-SNAPSHOT-all.jar importance \\\n",
    "            -if {2} \\\n",
    "            -ff {3} \\\n",
    "            -fc {4} \\\n",
    "            -v \\\n",
    "            -rn {1} \\\n",
    "            -rbs 28 \\\n",
    "            -ro\".format(MASTER, tree_val, input_file, input_features, feature_column)\n",
    "  \n",
    "    args = shlex.split(input_string)\n",
    "    \n",
    "    process = Popen(args, stdout=PIPE, stderr=PIPE)\n",
    "    while (process.wait() == None):\n",
    "        line = process.stdout.readline()\n",
    "        print(line)\n",
    "    time_stop = time.time()\n",
    "    total_time = time_stop - time_start\n",
    "    \n",
    "    print(\"process finished at {} seconds using {} trees\".format(total_time, tree_val))\n",
    "    \n",
    "    if (total_time < least_time_val):\n",
    "        least_time_val = total_time\n",
    "        \n",
    "    param_dict[total_time] = tree_val\n",
    "    \n",
    "print(\"The ntree value that took the least amount of time was {} at {} seconds\".format(param_dict[least_time_val], least_time_val))"
   ]
  },
  {
   "cell_type": "code",
   "execution_count": null,
   "metadata": {},
   "outputs": [],
   "source": []
  }
 ],
 "metadata": {
  "kernelspec": {
   "display_name": "Python 3",
   "language": "python",
   "name": "python3"
  },
  "language_info": {
   "codemirror_mode": {
    "name": "ipython",
    "version": 3
   },
   "file_extension": ".py",
   "mimetype": "text/x-python",
   "name": "python",
   "nbconvert_exporter": "python",
   "pygments_lexer": "ipython3",
   "version": "3.6.5"
  }
 },
 "nbformat": 4,
 "nbformat_minor": 2
}
