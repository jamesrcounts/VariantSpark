{
 "cells": [
  {
   "cell_type": "markdown",
   "metadata": {},
   "source": [
    "# VariantSpark-k Small Hipster\n",
    "This is our HPO notebook"
   ]
  },
  {
   "cell_type": "markdown",
   "metadata": {},
   "source": [
    "# Imports"
   ]
  },
  {
   "cell_type": "code",
   "execution_count": 2,
   "metadata": {
    "ExecuteTime": {
     "end_time": "2018-08-02T20:19:46.345875Z",
     "start_time": "2018-08-02T20:19:46.339887Z"
    }
   },
   "outputs": [
    {
     "ename": "ModuleNotFoundError",
     "evalue": "No module named 'numpy'",
     "output_type": "error",
     "traceback": [
      "\u001b[0;31m---------------------------------------------------------------------------\u001b[0m",
      "\u001b[0;31mModuleNotFoundError\u001b[0m                       Traceback (most recent call last)",
      "\u001b[0;32m<ipython-input-2-0aae9ec39d0a>\u001b[0m in \u001b[0;36m<module>\u001b[0;34m()\u001b[0m\n\u001b[1;32m      2\u001b[0m \u001b[0;32mfrom\u001b[0m \u001b[0msubprocess\u001b[0m \u001b[0;32mimport\u001b[0m \u001b[0mPopen\u001b[0m\u001b[0;34m,\u001b[0m \u001b[0mPIPE\u001b[0m\u001b[0;34m\u001b[0m\u001b[0m\n\u001b[1;32m      3\u001b[0m \u001b[0;34m\u001b[0m\u001b[0m\n\u001b[0;32m----> 4\u001b[0;31m \u001b[0;32mimport\u001b[0m \u001b[0mnumpy\u001b[0m \u001b[0;32mas\u001b[0m \u001b[0mnp\u001b[0m\u001b[0;34m\u001b[0m\u001b[0m\n\u001b[0m\u001b[1;32m      5\u001b[0m \u001b[0;32mimport\u001b[0m \u001b[0mtime\u001b[0m\u001b[0;34m\u001b[0m\u001b[0m\n",
      "\u001b[0;31mModuleNotFoundError\u001b[0m: No module named 'numpy'"
     ]
    }
   ],
   "source": [
    "import shlex\n",
    "from subprocess import Popen, PIPE\n",
    "\n",
    "import numpy as np\n",
    "import time "
   ]
  },
  {
   "cell_type": "markdown",
   "metadata": {},
   "source": [
    "# Deal with prechecks"
   ]
  },
  {
   "cell_type": "code",
   "execution_count": 3,
   "metadata": {
    "ExecuteTime": {
     "end_time": "2018-08-02T20:52:36.231617Z",
     "start_time": "2018-08-02T20:52:36.217465Z"
    }
   },
   "outputs": [],
   "source": [
    "%%bash\n",
    "\n",
    "set -e\n",
    "\n",
    "MASTER=https://kubernetes.default.svc:443\n",
    "INPUT_BUCKET=variant-spark\n",
    "\n",
    "function fatal_error () {\n",
    "\techo \"ERROR: $1\" 1>&2\n",
    "\texit 1\n",
    "}\n",
    "\n",
    "if [ -z ${MASTER+x} ];\n",
    "    then\n",
    "        echo \"You must set the MASTER environment variable to a kubernetes API endpoint\";\n",
    "        echo \"Example: https://ABC.sk1.us-west-2.eks.amazonaws.com:443\"\n",
    "        exit 1\n",
    "fi\n",
    "\n",
    "if [ -z ${INPUT_BUCKET+x} ];\n",
    "    then\n",
    "        echo \"You must set the INPUT_BUCKET environment variable to a bucket containing input data\";\n",
    "        echo \"Example: variant-spark-k-storage\"\n",
    "        exit 1\n",
    "fi\n",
    "\n",
    "[[ $(type -P \"spark-submit\") ]] || fatal_error  \"\\`spark-submit\\` cannot be found. Please make sure it's on your PATH.\"\n"
   ]
  },
  {
   "cell_type": "markdown",
   "metadata": {},
   "source": [
    "# Run Grid search"
   ]
  },
  {
   "cell_type": "code",
   "execution_count": 4,
   "metadata": {
    "ExecuteTime": {
     "end_time": "2018-08-02T20:51:44.939018Z",
     "start_time": "2018-08-02T20:51:44.749426Z"
    }
   },
   "outputs": [
    {
     "ename": "NameError",
     "evalue": "name 'np' is not defined",
     "output_type": "error",
     "traceback": [
      "\u001b[0;31m---------------------------------------------------------------------------\u001b[0m",
      "\u001b[0;31mNameError\u001b[0m                                 Traceback (most recent call last)",
      "\u001b[0;32m<ipython-input-4-3f544dd546e3>\u001b[0m in \u001b[0;36m<module>\u001b[0;34m()\u001b[0m\n\u001b[1;32m     21\u001b[0m \u001b[0;34m\u001b[0m\u001b[0m\n\u001b[1;32m     22\u001b[0m \u001b[0;31m# builds a list of evenly spaces values for the tree_val variable\u001b[0m\u001b[0;34m\u001b[0m\u001b[0;34m\u001b[0m\u001b[0m\n\u001b[0;32m---> 23\u001b[0;31m \u001b[0mn_trees\u001b[0m \u001b[0;34m=\u001b[0m \u001b[0mnp\u001b[0m\u001b[0;34m.\u001b[0m\u001b[0mlinspace\u001b[0m\u001b[0;34m(\u001b[0m\u001b[0mlower_bound\u001b[0m\u001b[0;34m,\u001b[0m \u001b[0mupper_bound\u001b[0m\u001b[0;34m,\u001b[0m \u001b[0mnum\u001b[0m\u001b[0;34m=\u001b[0m\u001b[0mn_iterations\u001b[0m\u001b[0;34m)\u001b[0m\u001b[0;34m\u001b[0m\u001b[0m\n\u001b[0m\u001b[1;32m     24\u001b[0m \u001b[0mn_trees\u001b[0m \u001b[0;34m=\u001b[0m \u001b[0;34m[\u001b[0m\u001b[0mint\u001b[0m\u001b[0;34m(\u001b[0m\u001b[0mx\u001b[0m\u001b[0;34m)\u001b[0m \u001b[0;32mfor\u001b[0m \u001b[0mx\u001b[0m \u001b[0;32min\u001b[0m \u001b[0mn_trees\u001b[0m\u001b[0;34m]\u001b[0m\u001b[0;34m\u001b[0m\u001b[0m\n\u001b[1;32m     25\u001b[0m \u001b[0;34m\u001b[0m\u001b[0m\n",
      "\u001b[0;31mNameError\u001b[0m: name 'np' is not defined"
     ]
    }
   ],
   "source": [
    "'''\n",
    "Sudo code\n",
    "We have a grid of values (trees or batches)\n",
    "We iterate through the grid of values and find which takes the least amount of time\n",
    "We have that configuration as a variable \n",
    "Once iterated we output that value\n",
    "\n",
    "'''\n",
    "\n",
    "# Process file system params\n",
    "MASTER=\"https://kubernetes.default.svc:443\"\n",
    "INPUT_BUCKET=\"variant-spark\"\n",
    "input_file = \"s3://{}/datasets/hipterIndex/hipster.vcf\".format(INPUT_BUCKET)\n",
    "input_features = \"s3://{}/datasets/hipterIndex/hipster_labels.txt\".format(INPUT_BUCKET)\n",
    "feature_column = \"label\"\n",
    "\n",
    "# Process run params\n",
    "n_iterations = 10\n",
    "upper_bound = 10000\n",
    "lower_bound = 100\n",
    "\n",
    "# builds a list of evenly spaces values for the tree_val variable\n",
    "n_trees = np.linspace(lower_bound, upper_bound, num=n_iterations)\n",
    "n_trees = [int(x) for x in n_trees]\n",
    "\n",
    "least_time_val = np.inf\n",
    "param_dict = {}\n",
    "\n",
    "for tree_val in n_trees:\n",
    "    \n",
    "    total_time = np.inf\n",
    "    \n",
    "    time_start = time.time()\n",
    "    \n",
    "    MASTER=\"https://kubernetes.default.svc:443\"\n",
    "    INPUT_BUCKET=\"variant-spark\"\n",
    "    \n",
    "    input_string = \"spark-submit \\\n",
    "        --class au.csiro.variantspark.cli.VariantSparkApp \\\n",
    "        --driver-class-path ./conf \\\n",
    "        --master k8s://${0} \\\n",
    "        --deploy-mode cluster \\\n",
    "        --name VariantSparkSmallHipsterHPO \\\n",
    "        --conf spark.kubernetes.authenticate.driver.serviceAccountName=spark \\\n",
    "        --conf spark.executor.instances=12 \\\n",
    "        --conf spark.executor.memory=2g \\\n",
    "        --conf spark.kubernetes.container.image=jamesrcounts/variantspark:002 \\\n",
    "        --jars http://central.maven.org/maven2/org/apache/hadoop/hadoop-aws/2.7.3/hadoop-aws-2.7.3.jar,http://central.maven.org/maven2/com/amazonaws/aws-java-sdk/1.7.4/aws-java-sdk-1.7.4.jar,http://central.maven.org/maven2/joda-time/joda-time/2.9.9/joda-time-2.9.9.jar \\\n",
    "        local:///opt/spark/jars/variant-spark_2.11-0.2.0-SNAPSHOT-all.jar importance \\\n",
    "            -if {2} \\\n",
    "            -ff {3} \\\n",
    "            -fc {4} \\\n",
    "            -v \\\n",
    "            -rn {1} \\\n",
    "            -rbs 28 \\\n",
    "            -ro \\\"$@\\\"\".format(MASTER, tree_val, input_file, input_features, feature_column)\n",
    "    \n",
    "    args = shlex.split(input_string)\n",
    "    process = Popen(args, stdout=PIPE, stderr=PIPE)\n",
    "    #stdout, stderr = process.communicate()\n",
    "    \n",
    "    time_stop = time.time()\n",
    "    total_time = time_stop - time_start\n",
    "    \n",
    "    print(\"process finished at {} seconds using {} trees\".format(total_time, tree_val))\n",
    "    \n",
    "    if (total_time < least_time_val):\n",
    "        least_time_val = total_time\n",
    "        \n",
    "    param_dict[total_time] = tree_val\n",
    "    \n",
    "print(\"The ntree value that took the least amount of time was {} at {} seconds\".format(param_dict[least_time_val], least_time_val))"
   ]
  },
  {
   "cell_type": "code",
   "execution_count": null,
   "metadata": {},
   "outputs": [],
   "source": []
  }
 ],
 "metadata": {
  "kernelspec": {
   "display_name": "Python 3",
   "language": "python",
   "name": "python3"
  },
  "language_info": {
   "codemirror_mode": {
    "name": "ipython",
    "version": 3
   },
   "file_extension": ".py",
   "mimetype": "text/x-python",
   "name": "python",
   "nbconvert_exporter": "python",
   "pygments_lexer": "ipython3",
   "version": "3.6.5"
  }
 },
 "nbformat": 4,
 "nbformat_minor": 2
}
