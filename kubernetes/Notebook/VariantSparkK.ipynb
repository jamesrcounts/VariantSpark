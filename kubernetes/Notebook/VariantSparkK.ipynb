{
 "cells": [
  {
   "cell_type": "markdown",
   "metadata": {},
   "source": [
    "# VariantSpark on Kubernetes\n",
    "\n",
    "\n",
    "Get the kubernetes api url and set the MASTER variable.  Run this command on your local machine, not in the notebook.\n",
    "\n",
    "```bash\n",
    "kubectl cluster-info\n",
    "```\n",
    "\n",
    "Output should look like \n",
    "\n",
    "```text\n",
    "Kubernetes master is running at https://0635056DB8A4C2D700D29005B1545B19.sk1.us-west-2.eks.amazonaws.com\n",
    "\n",
    "To further debug and diagnose cluster problems, use 'kubectl cluster-info dump'.\n",
    "```\n",
    "\n",
    "Set the MASTER variable below by taking the Kubernetes master URL above and explicitly adding the port.\n",
    "\n",
    "```bash\n",
    "MASTER=https://0635056DB8A4C2D700D29005B1545B19.sk1.us-west-2.eks.amazonaws.com:443\n",
    "```"
   ]
  },
  {
   "cell_type": "code",
   "execution_count": 2,
   "metadata": {},
   "outputs": [],
   "source": [
    "MASTER=\"https://0635056DB8A4C2D700D29005B1545B19.sk1.us-west-2.eks.amazonaws.com:443\""
   ]
  },
  {
   "cell_type": "markdown",
   "metadata": {},
   "source": [
    "In order to submit a job from outside the cluster you need to set up several pieces of authentication information.\n",
    "\n",
    "Next you need to retrieve the token for the spark role"
   ]
  },
  {
   "cell_type": "code",
   "execution_count": 3,
   "metadata": {},
   "outputs": [
    {
     "name": "stdout",
     "output_type": "stream",
     "text": [
      "https://0635056DB8A4C2D700D29005B1545B19.sk1.us-west-2.eks.amazonaws.com:443\n"
     ]
    }
   ],
   "source": [
    "%%bash -s \"$MASTER\"\n",
    "\n",
    "MASTER=${1}\n",
    "\n",
    "echo ${MASTER}"
   ]
  },
  {
   "cell_type": "code",
   "execution_count": null,
   "metadata": {},
   "outputs": [],
   "source": []
  }
 ],
 "metadata": {
  "kernelspec": {
   "display_name": "Python 3",
   "language": "python",
   "name": "python3"
  },
  "language_info": {
   "codemirror_mode": {
    "name": "ipython",
    "version": 3
   },
   "file_extension": ".py",
   "mimetype": "text/x-python",
   "name": "python",
   "nbconvert_exporter": "python",
   "pygments_lexer": "ipython3",
   "version": "3.6.5"
  }
 },
 "nbformat": 4,
 "nbformat_minor": 2
}
